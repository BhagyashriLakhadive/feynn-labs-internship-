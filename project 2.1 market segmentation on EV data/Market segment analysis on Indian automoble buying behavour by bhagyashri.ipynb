{
 "cells": [
  {
   "cell_type": "code",
   "execution_count": 1,
   "id": "87676cbd",
   "metadata": {},
   "outputs": [],
   "source": [
    "import numpy as np \n",
    "import pandas as pd \n",
    "import matplotlib.pyplot as plt \n",
    "import seaborn as sns \n",
    "import warnings \n",
    "warnings.filterwarnings('ignore')"
   ]
  },
  {
   "cell_type": "code",
   "execution_count": 2,
   "id": "cc4e7e9e",
   "metadata": {
    "scrolled": false
   },
   "outputs": [
    {
     "data": {
      "text/html": [
       "<div>\n",
       "<style scoped>\n",
       "    .dataframe tbody tr th:only-of-type {\n",
       "        vertical-align: middle;\n",
       "    }\n",
       "\n",
       "    .dataframe tbody tr th {\n",
       "        vertical-align: top;\n",
       "    }\n",
       "\n",
       "    .dataframe thead th {\n",
       "        text-align: right;\n",
       "    }\n",
       "</style>\n",
       "<table border=\"1\" class=\"dataframe\">\n",
       "  <thead>\n",
       "    <tr style=\"text-align: right;\">\n",
       "      <th></th>\n",
       "      <th>Age</th>\n",
       "      <th>Profession</th>\n",
       "      <th>Marrital Status</th>\n",
       "      <th>Education</th>\n",
       "      <th>No of Dependents</th>\n",
       "      <th>Personal loan</th>\n",
       "      <th>House Loan</th>\n",
       "      <th>Wife Working</th>\n",
       "      <th>Salary</th>\n",
       "      <th>Wife Salary</th>\n",
       "      <th>Total Salary</th>\n",
       "      <th>Make</th>\n",
       "      <th>Price</th>\n",
       "    </tr>\n",
       "  </thead>\n",
       "  <tbody>\n",
       "    <tr>\n",
       "      <th>0</th>\n",
       "      <td>27</td>\n",
       "      <td>Salaried</td>\n",
       "      <td>Single</td>\n",
       "      <td>Post Graduate</td>\n",
       "      <td>0</td>\n",
       "      <td>Yes</td>\n",
       "      <td>No</td>\n",
       "      <td>No</td>\n",
       "      <td>800000</td>\n",
       "      <td>0</td>\n",
       "      <td>800000</td>\n",
       "      <td>i20</td>\n",
       "      <td>800000</td>\n",
       "    </tr>\n",
       "    <tr>\n",
       "      <th>1</th>\n",
       "      <td>35</td>\n",
       "      <td>Salaried</td>\n",
       "      <td>Married</td>\n",
       "      <td>Post Graduate</td>\n",
       "      <td>2</td>\n",
       "      <td>Yes</td>\n",
       "      <td>Yes</td>\n",
       "      <td>Yes</td>\n",
       "      <td>1400000</td>\n",
       "      <td>600000</td>\n",
       "      <td>2000000</td>\n",
       "      <td>Ciaz</td>\n",
       "      <td>1000000</td>\n",
       "    </tr>\n",
       "    <tr>\n",
       "      <th>2</th>\n",
       "      <td>45</td>\n",
       "      <td>Business</td>\n",
       "      <td>Married</td>\n",
       "      <td>Graduate</td>\n",
       "      <td>4</td>\n",
       "      <td>Yes</td>\n",
       "      <td>Yes</td>\n",
       "      <td>No</td>\n",
       "      <td>1800000</td>\n",
       "      <td>0</td>\n",
       "      <td>1800000</td>\n",
       "      <td>Duster</td>\n",
       "      <td>1200000</td>\n",
       "    </tr>\n",
       "    <tr>\n",
       "      <th>3</th>\n",
       "      <td>41</td>\n",
       "      <td>Business</td>\n",
       "      <td>Married</td>\n",
       "      <td>Post Graduate</td>\n",
       "      <td>3</td>\n",
       "      <td>No</td>\n",
       "      <td>No</td>\n",
       "      <td>Yes</td>\n",
       "      <td>1600000</td>\n",
       "      <td>600000</td>\n",
       "      <td>2200000</td>\n",
       "      <td>City</td>\n",
       "      <td>1200000</td>\n",
       "    </tr>\n",
       "    <tr>\n",
       "      <th>4</th>\n",
       "      <td>31</td>\n",
       "      <td>Salaried</td>\n",
       "      <td>Married</td>\n",
       "      <td>Post Graduate</td>\n",
       "      <td>2</td>\n",
       "      <td>Yes</td>\n",
       "      <td>No</td>\n",
       "      <td>Yes</td>\n",
       "      <td>1800000</td>\n",
       "      <td>800000</td>\n",
       "      <td>2600000</td>\n",
       "      <td>SUV</td>\n",
       "      <td>1600000</td>\n",
       "    </tr>\n",
       "  </tbody>\n",
       "</table>\n",
       "</div>"
      ],
      "text/plain": [
       "   Age Profession Marrital Status      Education  No of Dependents  \\\n",
       "0   27   Salaried          Single  Post Graduate                 0   \n",
       "1   35   Salaried         Married  Post Graduate                 2   \n",
       "2   45   Business         Married       Graduate                 4   \n",
       "3   41   Business         Married  Post Graduate                 3   \n",
       "4   31   Salaried         Married  Post Graduate                 2   \n",
       "\n",
       "  Personal loan House Loan Wife Working   Salary  Wife Salary  Total Salary  \\\n",
       "0           Yes         No           No   800000            0        800000   \n",
       "1           Yes        Yes          Yes  1400000       600000       2000000   \n",
       "2           Yes        Yes           No  1800000            0       1800000   \n",
       "3            No         No          Yes  1600000       600000       2200000   \n",
       "4           Yes         No          Yes  1800000       800000       2600000   \n",
       "\n",
       "     Make    Price  \n",
       "0     i20   800000  \n",
       "1    Ciaz  1000000  \n",
       "2  Duster  1200000  \n",
       "3    City  1200000  \n",
       "4     SUV  1600000  "
      ]
     },
     "execution_count": 2,
     "metadata": {},
     "output_type": "execute_result"
    }
   ],
   "source": [
    "# import the data \n",
    "data = pd.read_csv(\"Indian automoble buying behavour study 1.0.csv\")\n",
    "data.head()"
   ]
  },
  {
   "cell_type": "markdown",
   "id": "bbb9b410",
   "metadata": {},
   "source": [
    "# EDA"
   ]
  },
  {
   "cell_type": "code",
   "execution_count": 3,
   "id": "1ed727d6",
   "metadata": {},
   "outputs": [
    {
     "data": {
      "text/plain": [
       "(99, 13)"
      ]
     },
     "execution_count": 3,
     "metadata": {},
     "output_type": "execute_result"
    }
   ],
   "source": [
    "#shape of the data \n",
    "data.shape "
   ]
  },
  {
   "cell_type": "code",
   "execution_count": 4,
   "id": "00ed8b42",
   "metadata": {},
   "outputs": [
    {
     "name": "stdout",
     "output_type": "stream",
     "text": [
      "<class 'pandas.core.frame.DataFrame'>\n",
      "RangeIndex: 99 entries, 0 to 98\n",
      "Data columns (total 13 columns):\n",
      " #   Column            Non-Null Count  Dtype \n",
      "---  ------            --------------  ----- \n",
      " 0   Age               99 non-null     int64 \n",
      " 1   Profession        99 non-null     object\n",
      " 2   Marrital Status   99 non-null     object\n",
      " 3   Education         99 non-null     object\n",
      " 4   No of Dependents  99 non-null     int64 \n",
      " 5   Personal loan     99 non-null     object\n",
      " 6   House Loan        99 non-null     object\n",
      " 7   Wife Working      99 non-null     object\n",
      " 8   Salary            99 non-null     int64 \n",
      " 9   Wife Salary       99 non-null     int64 \n",
      " 10  Total Salary      99 non-null     int64 \n",
      " 11  Make              99 non-null     object\n",
      " 12  Price             99 non-null     int64 \n",
      "dtypes: int64(6), object(7)\n",
      "memory usage: 10.2+ KB\n"
     ]
    }
   ],
   "source": [
    "# data information\n",
    "data.info() "
   ]
  },
  {
   "cell_type": "code",
   "execution_count": 5,
   "id": "7d5326b0",
   "metadata": {
    "scrolled": true
   },
   "outputs": [
    {
     "data": {
      "text/plain": [
       "Age                 0\n",
       "Profession          0\n",
       "Marrital Status     0\n",
       "Education           0\n",
       "No of Dependents    0\n",
       "Personal loan       0\n",
       "House Loan          0\n",
       "Wife Working        0\n",
       "Salary              0\n",
       "Wife Salary         0\n",
       "Total Salary        0\n",
       "Make                0\n",
       "Price               0\n",
       "dtype: int64"
      ]
     },
     "execution_count": 5,
     "metadata": {},
     "output_type": "execute_result"
    }
   ],
   "source": [
    "#cheaking the null values \n",
    "data.isnull().sum()"
   ]
  },
  {
   "cell_type": "code",
   "execution_count": 6,
   "id": "2d52378a",
   "metadata": {},
   "outputs": [
    {
     "data": {
      "text/plain": [
       "0"
      ]
     },
     "execution_count": 6,
     "metadata": {},
     "output_type": "execute_result"
    }
   ],
   "source": [
    "data.duplicated().sum()"
   ]
  },
  {
   "cell_type": "markdown",
   "id": "5f664fd7",
   "metadata": {},
   "source": [
    "* observation : we dont have any null and duplicate values in this dataset "
   ]
  },
  {
   "cell_type": "code",
   "execution_count": 7,
   "id": "841a9796",
   "metadata": {},
   "outputs": [
    {
     "data": {
      "text/html": [
       "<div>\n",
       "<style scoped>\n",
       "    .dataframe tbody tr th:only-of-type {\n",
       "        vertical-align: middle;\n",
       "    }\n",
       "\n",
       "    .dataframe tbody tr th {\n",
       "        vertical-align: top;\n",
       "    }\n",
       "\n",
       "    .dataframe thead th {\n",
       "        text-align: right;\n",
       "    }\n",
       "</style>\n",
       "<table border=\"1\" class=\"dataframe\">\n",
       "  <thead>\n",
       "    <tr style=\"text-align: right;\">\n",
       "      <th></th>\n",
       "      <th>Age</th>\n",
       "      <th>No of Dependents</th>\n",
       "      <th>Salary</th>\n",
       "      <th>Wife Salary</th>\n",
       "      <th>Total Salary</th>\n",
       "      <th>Price</th>\n",
       "    </tr>\n",
       "  </thead>\n",
       "  <tbody>\n",
       "    <tr>\n",
       "      <th>count</th>\n",
       "      <td>99.000000</td>\n",
       "      <td>99.000000</td>\n",
       "      <td>9.900000e+01</td>\n",
       "      <td>9.900000e+01</td>\n",
       "      <td>9.900000e+01</td>\n",
       "      <td>9.900000e+01</td>\n",
       "    </tr>\n",
       "    <tr>\n",
       "      <th>mean</th>\n",
       "      <td>36.313131</td>\n",
       "      <td>2.181818</td>\n",
       "      <td>1.736364e+06</td>\n",
       "      <td>5.343434e+05</td>\n",
       "      <td>2.270707e+06</td>\n",
       "      <td>1.194040e+06</td>\n",
       "    </tr>\n",
       "    <tr>\n",
       "      <th>std</th>\n",
       "      <td>6.246054</td>\n",
       "      <td>1.335265</td>\n",
       "      <td>6.736217e+05</td>\n",
       "      <td>6.054450e+05</td>\n",
       "      <td>1.050777e+06</td>\n",
       "      <td>4.376955e+05</td>\n",
       "    </tr>\n",
       "    <tr>\n",
       "      <th>min</th>\n",
       "      <td>26.000000</td>\n",
       "      <td>0.000000</td>\n",
       "      <td>2.000000e+05</td>\n",
       "      <td>0.000000e+00</td>\n",
       "      <td>2.000000e+05</td>\n",
       "      <td>1.100000e+05</td>\n",
       "    </tr>\n",
       "    <tr>\n",
       "      <th>25%</th>\n",
       "      <td>31.000000</td>\n",
       "      <td>2.000000</td>\n",
       "      <td>1.300000e+06</td>\n",
       "      <td>0.000000e+00</td>\n",
       "      <td>1.550000e+06</td>\n",
       "      <td>8.000000e+05</td>\n",
       "    </tr>\n",
       "    <tr>\n",
       "      <th>50%</th>\n",
       "      <td>36.000000</td>\n",
       "      <td>2.000000</td>\n",
       "      <td>1.600000e+06</td>\n",
       "      <td>5.000000e+05</td>\n",
       "      <td>2.100000e+06</td>\n",
       "      <td>1.200000e+06</td>\n",
       "    </tr>\n",
       "    <tr>\n",
       "      <th>75%</th>\n",
       "      <td>41.000000</td>\n",
       "      <td>3.000000</td>\n",
       "      <td>2.200000e+06</td>\n",
       "      <td>9.000000e+05</td>\n",
       "      <td>2.700000e+06</td>\n",
       "      <td>1.500000e+06</td>\n",
       "    </tr>\n",
       "    <tr>\n",
       "      <th>max</th>\n",
       "      <td>51.000000</td>\n",
       "      <td>4.000000</td>\n",
       "      <td>3.800000e+06</td>\n",
       "      <td>2.100000e+06</td>\n",
       "      <td>5.200000e+06</td>\n",
       "      <td>3.000000e+06</td>\n",
       "    </tr>\n",
       "  </tbody>\n",
       "</table>\n",
       "</div>"
      ],
      "text/plain": [
       "             Age  No of Dependents        Salary   Wife Salary  Total Salary  \\\n",
       "count  99.000000         99.000000  9.900000e+01  9.900000e+01  9.900000e+01   \n",
       "mean   36.313131          2.181818  1.736364e+06  5.343434e+05  2.270707e+06   \n",
       "std     6.246054          1.335265  6.736217e+05  6.054450e+05  1.050777e+06   \n",
       "min    26.000000          0.000000  2.000000e+05  0.000000e+00  2.000000e+05   \n",
       "25%    31.000000          2.000000  1.300000e+06  0.000000e+00  1.550000e+06   \n",
       "50%    36.000000          2.000000  1.600000e+06  5.000000e+05  2.100000e+06   \n",
       "75%    41.000000          3.000000  2.200000e+06  9.000000e+05  2.700000e+06   \n",
       "max    51.000000          4.000000  3.800000e+06  2.100000e+06  5.200000e+06   \n",
       "\n",
       "              Price  \n",
       "count  9.900000e+01  \n",
       "mean   1.194040e+06  \n",
       "std    4.376955e+05  \n",
       "min    1.100000e+05  \n",
       "25%    8.000000e+05  \n",
       "50%    1.200000e+06  \n",
       "75%    1.500000e+06  \n",
       "max    3.000000e+06  "
      ]
     },
     "execution_count": 7,
     "metadata": {},
     "output_type": "execute_result"
    }
   ],
   "source": [
    "#statistical description of the data \n",
    "data.describe()"
   ]
  },
  {
   "cell_type": "code",
   "execution_count": 8,
   "id": "bbf6e3ce",
   "metadata": {},
   "outputs": [
    {
     "data": {
      "text/plain": [
       "Index(['Age', 'Profession', 'Marrital Status', 'Education', 'No of Dependents',\n",
       "       'Personal loan', 'House Loan', 'Wife Working', 'Salary', 'Wife Salary',\n",
       "       'Total Salary', 'Make', 'Price'],\n",
       "      dtype='object')"
      ]
     },
     "execution_count": 8,
     "metadata": {},
     "output_type": "execute_result"
    }
   ],
   "source": [
    "data.columns "
   ]
  },
  {
   "cell_type": "code",
   "execution_count": 9,
   "id": "86d9fa3c",
   "metadata": {
    "scrolled": true
   },
   "outputs": [
    {
     "data": {
      "text/plain": [
       "Salaried    64\n",
       "Business    35\n",
       "Name: Profession, dtype: int64"
      ]
     },
     "execution_count": 9,
     "metadata": {},
     "output_type": "execute_result"
    }
   ],
   "source": [
    "#profession \n",
    "data['Profession'].value_counts()"
   ]
  },
  {
   "cell_type": "markdown",
   "id": "438c4998",
   "metadata": {},
   "source": [
    "* Data contains two categories in profession one is having 64 Salaried people and another is 35 business type people "
   ]
  },
  {
   "cell_type": "code",
   "execution_count": 10,
   "id": "cad2a86a",
   "metadata": {},
   "outputs": [
    {
     "data": {
      "text/plain": [
       "Married    84\n",
       "Single     15\n",
       "Name: Marrital Status, dtype: int64"
      ]
     },
     "execution_count": 10,
     "metadata": {},
     "output_type": "execute_result"
    }
   ],
   "source": [
    "#cheaking marital status \n",
    "data['Marrital Status'].value_counts()"
   ]
  },
  {
   "cell_type": "code",
   "execution_count": 11,
   "id": "871728f7",
   "metadata": {
    "scrolled": true
   },
   "outputs": [
    {
     "data": {
      "text/plain": [
       "Post Graduate    56\n",
       "Graduate         43\n",
       "Name: Education, dtype: int64"
      ]
     },
     "execution_count": 11,
     "metadata": {},
     "output_type": "execute_result"
    }
   ],
   "source": [
    "data['Education'].value_counts()"
   ]
  },
  {
   "cell_type": "markdown",
   "id": "3302966a",
   "metadata": {},
   "source": [
    "* in our data there are 56 people who completed their post graduation and 43 people has copleted their graduation  "
   ]
  },
  {
   "cell_type": "code",
   "execution_count": 12,
   "id": "52d4a7c8",
   "metadata": {},
   "outputs": [
    {
     "data": {
      "text/html": [
       "<div>\n",
       "<style scoped>\n",
       "    .dataframe tbody tr th:only-of-type {\n",
       "        vertical-align: middle;\n",
       "    }\n",
       "\n",
       "    .dataframe tbody tr th {\n",
       "        vertical-align: top;\n",
       "    }\n",
       "\n",
       "    .dataframe thead th {\n",
       "        text-align: right;\n",
       "    }\n",
       "</style>\n",
       "<table border=\"1\" class=\"dataframe\">\n",
       "  <thead>\n",
       "    <tr style=\"text-align: right;\">\n",
       "      <th></th>\n",
       "      <th>0</th>\n",
       "    </tr>\n",
       "  </thead>\n",
       "  <tbody>\n",
       "    <tr>\n",
       "      <th>0</th>\n",
       "      <td>0</td>\n",
       "    </tr>\n",
       "    <tr>\n",
       "      <th>1</th>\n",
       "      <td>2</td>\n",
       "    </tr>\n",
       "    <tr>\n",
       "      <th>2</th>\n",
       "      <td>4</td>\n",
       "    </tr>\n",
       "    <tr>\n",
       "      <th>3</th>\n",
       "      <td>3</td>\n",
       "    </tr>\n",
       "  </tbody>\n",
       "</table>\n",
       "</div>"
      ],
      "text/plain": [
       "   0\n",
       "0  0\n",
       "1  2\n",
       "2  4\n",
       "3  3"
      ]
     },
     "execution_count": 12,
     "metadata": {},
     "output_type": "execute_result"
    }
   ],
   "source": [
    "pd.DataFrame(data['No of Dependents'].unique())"
   ]
  },
  {
   "cell_type": "code",
   "execution_count": 13,
   "id": "0239e3db",
   "metadata": {
    "scrolled": true
   },
   "outputs": [
    {
     "data": {
      "text/plain": [
       "5"
      ]
     },
     "execution_count": 13,
     "metadata": {},
     "output_type": "execute_result"
    }
   ],
   "source": [
    "len(data[(data['Salary'] >= 800000) & (data['Wife Salary'] == 600000)])"
   ]
  },
  {
   "cell_type": "markdown",
   "id": "9a0399fe",
   "metadata": {},
   "source": [
    "### Possibility of car making based on Education"
   ]
  },
  {
   "cell_type": "code",
   "execution_count": 14,
   "id": "4ebd29a6",
   "metadata": {
    "scrolled": false
   },
   "outputs": [
    {
     "data": {
      "image/png": "[encoded data removed]",
      "text/plain": [
       "<Figure size 720x432 with 1 Axes>"
      ]
     },
     "metadata": {
      "needs_background": "light"
     },
     "output_type": "display_data"
    }
   ],
   "source": [
    "# Countplot to visualize the possibility of car making based on education\n",
    "plt.figure(figsize=(10, 6))\n",
    "sns.countplot(x='Education', hue='Make', data=data)\n",
    "plt.title('Possibility of Car Making based on Education')\n",
    "plt.show()\n"
   ]
  },
  {
   "cell_type": "markdown",
   "id": "db84637e",
   "metadata": {},
   "source": [
    "* observation : from above bar chart we can say that more post graduates can afford SUVs,Creta,i20,city,Duster,verna than graduates one the other hand more graduates can make ciaz and baleno the postgraduates, Again both the categories have low probability in making luxury cars "
   ]
  },
  {
   "cell_type": "markdown",
   "id": "219a4794",
   "metadata": {},
   "source": [
    "### Relationship between car making possibility and Total Salary and personal loan "
   ]
  },
  {
   "cell_type": "code",
   "execution_count": 15,
   "id": "f6dab6de",
   "metadata": {
    "scrolled": true
   },
   "outputs": [
    {
     "data": {
      "image/png": "[encoded data removed]",
      "text/plain": [
       "<Figure size 720x432 with 1 Axes>"
      ]
     },
     "metadata": {
      "needs_background": "light"
     },
     "output_type": "display_data"
    }
   ],
   "source": [
    "# Bar plot to visualize the relationship between car making possibility and total salary\n",
    "plt.figure(figsize=(10, 6))\n",
    "sns.barplot(x='Make', y='Total Salary', hue='Personal loan', data=data)\n",
    "plt.title('Relationship between Car Making Possibility and Total Salary')\n",
    "plt.xlabel('Car Make')\n",
    "plt.ylabel('Total Salary')\n",
    "plt.show()"
   ]
  },
  {
   "cell_type": "markdown",
   "id": "34df6e72",
   "metadata": {},
   "source": [
    "* observation : from the charts there is high probability that if people have taken the personal loan thay can afford a car.people can afford more SUVs,Ciaz,Verna,Creata brands with personal loan than without any. "
   ]
  },
  {
   "cell_type": "code",
   "execution_count": 16,
   "id": "e20c7431",
   "metadata": {
    "scrolled": false
   },
   "outputs": [
    {
     "data": {
      "text/plain": [
       "3000000"
      ]
     },
     "execution_count": 16,
     "metadata": {},
     "output_type": "execute_result"
    }
   ],
   "source": [
    "#maximum price of car \n",
    "data['Price'].max()"
   ]
  },
  {
   "cell_type": "markdown",
   "id": "2e816e0a",
   "metadata": {},
   "source": [
    "### People with Wife Salary Affording High Price Cars by Make"
   ]
  },
  {
   "cell_type": "code",
   "execution_count": 17,
   "id": "0e4ff717",
   "metadata": {},
   "outputs": [],
   "source": [
    "#high car prices\n",
    "high_price_threshold = 1500000  \n",
    "high_salary_data = data[data['Wife Salary'] > 0]\n",
    "affordable_high_price_cars = high_salary_data[high_salary_data['Total Salary'] >= high_price_threshold]\n",
    "\n",
    "#count the number of people in each category\n",
    "counts = affordable_high_price_cars['Make'].value_counts()"
   ]
  },
  {
   "cell_type": "code",
   "execution_count": 18,
   "id": "4e5e1a75",
   "metadata": {
    "scrolled": false
   },
   "outputs": [
    {
     "data": {
      "image/png": "[encoded data removed]",
      "text/plain": [
       "<Figure size 720x432 with 1 Axes>"
      ]
     },
     "metadata": {
      "needs_background": "light"
     },
     "output_type": "display_data"
    }
   ],
   "source": [
    "# Plot the data\n",
    "plt.figure(figsize=(10, 6))\n",
    "counts.plot(kind='bar', color='skyblue')\n",
    "plt.title('Number of People with Wife Salary Affording High Price Cars by Make')\n",
    "plt.xlabel('Car Make')\n",
    "plt.ylabel('Number of People')\n",
    "plt.show()\n"
   ]
  },
  {
   "cell_type": "markdown",
   "id": "88dc0ca4",
   "metadata": {},
   "source": [
    "* observation: There are more than 14 people who can make SUV cars if their wives are working and making money followed by Creata,City,ciaz,i20,and Duster  "
   ]
  },
  {
   "cell_type": "code",
   "execution_count": 19,
   "id": "27464f23",
   "metadata": {},
   "outputs": [
    {
     "data": {
      "text/plain": [
       "No     62\n",
       "Yes    37\n",
       "Name: House Loan, dtype: int64"
      ]
     },
     "execution_count": 19,
     "metadata": {},
     "output_type": "execute_result"
    }
   ],
   "source": [
    "#people having house loan or not \n",
    "data['House Loan'].value_counts()"
   ]
  },
  {
   "cell_type": "code",
   "execution_count": 20,
   "id": "0845ec73",
   "metadata": {},
   "outputs": [
    {
     "data": {
      "image/png": "[encoded data removed]",
      "text/plain": [
       "<Figure size 576x432 with 1 Axes>"
      ]
     },
     "metadata": {
      "needs_background": "light"
     },
     "output_type": "display_data"
    }
   ],
   "source": [
    "# How many people have House loan \n",
    "plt.figure(figsize=(8, 6))\n",
    "sns.countplot(x='House Loan', data=data)\n",
    "plt.title('Number of People with House Loan')\n",
    "plt.xlabel('House Loan')\n",
    "plt.ylabel('Count')\n",
    "plt.show()\n"
   ]
  },
  {
   "cell_type": "markdown",
   "id": "b6b4a52d",
   "metadata": {},
   "source": [
    "There are 37 people in the data have taken House loan "
   ]
  },
  {
   "cell_type": "code",
   "execution_count": 21,
   "id": "dc76d37c",
   "metadata": {
    "scrolled": true
   },
   "outputs": [
    {
     "name": "stdout",
     "output_type": "stream",
     "text": [
      "No of young_singles:  14\n"
     ]
    }
   ],
   "source": [
    "#Young Singles\n",
    "young_singles = data[data['Age'] < 30].value_counts().sum()\n",
    "print(\"No of young_singles: \",young_singles)"
   ]
  },
  {
   "cell_type": "code",
   "execution_count": 22,
   "id": "351b3f3e",
   "metadata": {},
   "outputs": [
    {
     "name": "stdout",
     "output_type": "stream",
     "text": [
      "No of family_oriented people:  75\n"
     ]
    }
   ],
   "source": [
    "# Family-oriented\n",
    "family_oriented = data[(data['Age'] >= 30) & (data['No of Dependents'] > 0)].value_counts().sum()\n",
    "print('No of family_oriented people: ',family_oriented)"
   ]
  },
  {
   "cell_type": "code",
   "execution_count": 23,
   "id": "e2e6f9bc",
   "metadata": {},
   "outputs": [
    {
     "data": {
      "image/png": "[encoded data removed]",
      "text/plain": [
       "<Figure size 720x432 with 1 Axes>"
      ]
     },
     "metadata": {
      "needs_background": "light"
     },
     "output_type": "display_data"
    }
   ],
   "source": [
    "# Visualizing Age Distribution\n",
    "plt.figure(figsize=(10, 6))\n",
    "plt.hist(data['Age'], bins=20, color='skyblue', edgecolor='black')\n",
    "plt.title('Age Distribution of Customers')\n",
    "plt.xlabel('Age')\n",
    "plt.ylabel('Number of Customers')\n",
    "plt.show()"
   ]
  },
  {
   "cell_type": "markdown",
   "id": "0ceb263b",
   "metadata": {},
   "source": [
    "* from the above chart the age factor is varing mostly in between 30 to 45"
   ]
  },
  {
   "cell_type": "code",
   "execution_count": 24,
   "id": "abfcfe38",
   "metadata": {},
   "outputs": [
    {
     "name": "stdout",
     "output_type": "stream",
     "text": [
      "high_income_individuals: 28\n",
      "loan_takers: 45\n"
     ]
    }
   ],
   "source": [
    "# Income and Loan Status\n",
    "high_income_individuals = data[data['Salary'] > 2000000]\n",
    "loan_takers = data[(data['Personal loan'] == 'Yes') | (data['House Loan'] == 'Yes')]\n",
    "print('high_income_individuals:',len(high_income_individuals))\n",
    "print('loan_takers:',len(loan_takers))"
   ]
  },
  {
   "cell_type": "code",
   "execution_count": 25,
   "id": "116f2537",
   "metadata": {},
   "outputs": [
    {
     "name": "stdout",
     "output_type": "stream",
     "text": [
      "post_graduates: 56\n",
      "suv_lovers: 19\n"
     ]
    }
   ],
   "source": [
    "#Education and Make Preference\n",
    "post_graduates = len(data[data['Education'] == 'Post Graduate'])\n",
    "suv_lovers = len(data[data['Make'] == 'SUV'])\n",
    "print('post_graduates:',post_graduates)\n",
    "print('suv_lovers:',suv_lovers)"
   ]
  },
  {
   "cell_type": "code",
   "execution_count": 26,
   "id": "b3ac6a13",
   "metadata": {},
   "outputs": [
    {
     "data": {
      "text/plain": [
       "52"
      ]
     },
     "execution_count": 26,
     "metadata": {},
     "output_type": "execute_result"
    }
   ],
   "source": [
    "#dual_income_families\n",
    "dual_income_families = len(data[data['Wife Working'] == 'Yes'])\n",
    "dual_income_families"
   ]
  },
  {
   "cell_type": "code",
   "execution_count": 27,
   "id": "5f76f255",
   "metadata": {},
   "outputs": [
    {
     "name": "stdout",
     "output_type": "stream",
     "text": [
      "high_spending_customers: 50\n",
      "baleno_enthusiasts: 19\n"
     ]
    }
   ],
   "source": [
    "high_spending_customers = len(data[data['Total Salary'] > 2000000])\n",
    "baleno_enthusiasts = len(data[data['Make'] == 'Baleno'])\n",
    "print('high_spending_customers:',high_spending_customers)\n",
    "print('baleno_enthusiasts:',baleno_enthusiasts)"
   ]
  },
  {
   "cell_type": "code",
   "execution_count": 28,
   "id": "38b4f95f",
   "metadata": {},
   "outputs": [
    {
     "data": {
      "text/plain": [
       "Age                  int64\n",
       "Profession          object\n",
       "Marrital Status     object\n",
       "Education           object\n",
       "No of Dependents     int64\n",
       "Personal loan       object\n",
       "House Loan          object\n",
       "Wife Working        object\n",
       "Salary               int64\n",
       "Wife Salary          int64\n",
       "Total Salary         int64\n",
       "Make                object\n",
       "Price                int64\n",
       "dtype: object"
      ]
     },
     "execution_count": 28,
     "metadata": {},
     "output_type": "execute_result"
    }
   ],
   "source": [
    "data.dtypes"
   ]
  },
  {
   "cell_type": "code",
   "execution_count": 29,
   "id": "1893c894",
   "metadata": {},
   "outputs": [],
   "source": [
    "#copy the original data \n",
    "df1 = data.copy()"
   ]
  },
  {
   "cell_type": "code",
   "execution_count": 30,
   "id": "7f020680",
   "metadata": {},
   "outputs": [],
   "source": [
    "df1.rename(columns={'Total Salary': 'Total_Income'}, inplace=True)"
   ]
  },
  {
   "cell_type": "code",
   "execution_count": 31,
   "id": "41271ab1",
   "metadata": {},
   "outputs": [],
   "source": [
    "#conberting the categorical data into numerical format \n",
    "from sklearn.preprocessing import LabelEncoder\n",
    "\n",
    "label_encoder = LabelEncoder()\n",
    "\n",
    "# Apply label encoding to selected columns\n",
    "categorical_columns = ['Profession','Marrital Status','Education', 'Personal loan', 'House Loan','Wife Working','Make']\n",
    "for column in categorical_columns:\n",
    "    df1[column] = label_encoder.fit_transform(df1[column])\n"
   ]
  },
  {
   "cell_type": "code",
   "execution_count": 32,
   "id": "ad52badc",
   "metadata": {},
   "outputs": [
    {
     "data": {
      "image/png": "[encoded data removed]",
      "text/plain": [
       "<Figure size 864x432 with 2 Axes>"
      ]
     },
     "metadata": {
      "needs_background": "light"
     },
     "output_type": "display_data"
    }
   ],
   "source": [
    "# Correlation matrix\n",
    "plt.figure(figsize = (12,6))\n",
    "correlation_matrix = data.corr()\n",
    "sns.heatmap(correlation_matrix, annot=True, cmap='rainbow')\n",
    "plt.title('Correlation Matrix')\n",
    "plt.show()"
   ]
  },
  {
   "cell_type": "code",
   "execution_count": 33,
   "id": "85f5e3e1",
   "metadata": {},
   "outputs": [
    {
     "data": {
      "text/html": [
       "<div>\n",
       "<style scoped>\n",
       "    .dataframe tbody tr th:only-of-type {\n",
       "        vertical-align: middle;\n",
       "    }\n",
       "\n",
       "    .dataframe tbody tr th {\n",
       "        vertical-align: top;\n",
       "    }\n",
       "\n",
       "    .dataframe thead th {\n",
       "        text-align: right;\n",
       "    }\n",
       "</style>\n",
       "<table border=\"1\" class=\"dataframe\">\n",
       "  <thead>\n",
       "    <tr style=\"text-align: right;\">\n",
       "      <th></th>\n",
       "      <th>Age</th>\n",
       "      <th>Profession</th>\n",
       "      <th>Marrital Status</th>\n",
       "      <th>Education</th>\n",
       "      <th>No of Dependents</th>\n",
       "      <th>Personal loan</th>\n",
       "      <th>House Loan</th>\n",
       "      <th>Wife Working</th>\n",
       "      <th>Salary</th>\n",
       "      <th>Wife Salary</th>\n",
       "      <th>Total_Income</th>\n",
       "      <th>Make</th>\n",
       "      <th>Price</th>\n",
       "    </tr>\n",
       "  </thead>\n",
       "  <tbody>\n",
       "    <tr>\n",
       "      <th>0</th>\n",
       "      <td>27</td>\n",
       "      <td>1</td>\n",
       "      <td>1</td>\n",
       "      <td>1</td>\n",
       "      <td>0</td>\n",
       "      <td>1</td>\n",
       "      <td>0</td>\n",
       "      <td>0</td>\n",
       "      <td>800000</td>\n",
       "      <td>0</td>\n",
       "      <td>800000</td>\n",
       "      <td>8</td>\n",
       "      <td>800000</td>\n",
       "    </tr>\n",
       "    <tr>\n",
       "      <th>1</th>\n",
       "      <td>35</td>\n",
       "      <td>1</td>\n",
       "      <td>0</td>\n",
       "      <td>1</td>\n",
       "      <td>2</td>\n",
       "      <td>1</td>\n",
       "      <td>1</td>\n",
       "      <td>1</td>\n",
       "      <td>1400000</td>\n",
       "      <td>600000</td>\n",
       "      <td>2000000</td>\n",
       "      <td>1</td>\n",
       "      <td>1000000</td>\n",
       "    </tr>\n",
       "    <tr>\n",
       "      <th>2</th>\n",
       "      <td>45</td>\n",
       "      <td>0</td>\n",
       "      <td>0</td>\n",
       "      <td>0</td>\n",
       "      <td>4</td>\n",
       "      <td>1</td>\n",
       "      <td>1</td>\n",
       "      <td>0</td>\n",
       "      <td>1800000</td>\n",
       "      <td>0</td>\n",
       "      <td>1800000</td>\n",
       "      <td>4</td>\n",
       "      <td>1200000</td>\n",
       "    </tr>\n",
       "    <tr>\n",
       "      <th>3</th>\n",
       "      <td>41</td>\n",
       "      <td>0</td>\n",
       "      <td>0</td>\n",
       "      <td>1</td>\n",
       "      <td>3</td>\n",
       "      <td>0</td>\n",
       "      <td>0</td>\n",
       "      <td>1</td>\n",
       "      <td>1600000</td>\n",
       "      <td>600000</td>\n",
       "      <td>2200000</td>\n",
       "      <td>2</td>\n",
       "      <td>1200000</td>\n",
       "    </tr>\n",
       "    <tr>\n",
       "      <th>4</th>\n",
       "      <td>31</td>\n",
       "      <td>1</td>\n",
       "      <td>0</td>\n",
       "      <td>1</td>\n",
       "      <td>2</td>\n",
       "      <td>1</td>\n",
       "      <td>0</td>\n",
       "      <td>1</td>\n",
       "      <td>1800000</td>\n",
       "      <td>800000</td>\n",
       "      <td>2600000</td>\n",
       "      <td>6</td>\n",
       "      <td>1600000</td>\n",
       "    </tr>\n",
       "  </tbody>\n",
       "</table>\n",
       "</div>"
      ],
      "text/plain": [
       "   Age  Profession  Marrital Status  Education  No of Dependents  \\\n",
       "0   27           1                1          1                 0   \n",
       "1   35           1                0          1                 2   \n",
       "2   45           0                0          0                 4   \n",
       "3   41           0                0          1                 3   \n",
       "4   31           1                0          1                 2   \n",
       "\n",
       "   Personal loan  House Loan  Wife Working   Salary  Wife Salary  \\\n",
       "0              1           0             0   800000            0   \n",
       "1              1           1             1  1400000       600000   \n",
       "2              1           1             0  1800000            0   \n",
       "3              0           0             1  1600000       600000   \n",
       "4              1           0             1  1800000       800000   \n",
       "\n",
       "   Total_Income  Make    Price  \n",
       "0        800000     8   800000  \n",
       "1       2000000     1  1000000  \n",
       "2       1800000     4  1200000  \n",
       "3       2200000     2  1200000  \n",
       "4       2600000     6  1600000  "
      ]
     },
     "execution_count": 33,
     "metadata": {},
     "output_type": "execute_result"
    }
   ],
   "source": [
    "df1.head()"
   ]
  },
  {
   "cell_type": "code",
   "execution_count": 34,
   "id": "b4b27bdb",
   "metadata": {},
   "outputs": [],
   "source": [
    "#Selecting the Features for Market Segmentation\n",
    "selected_features = ['Age', 'Profession', 'Marrital Status', 'Education', 'Personal loan', 'House Loan', 'Wife Working', 'Total_Income', 'Price']\n",
    "\n",
    "#Extract selected features from the original DataFrame\n",
    "segmentation_data = df1[selected_features]"
   ]
  },
  {
   "cell_type": "markdown",
   "id": "649ec998",
   "metadata": {},
   "source": [
    "### Detecting outliers with boxplot "
   ]
  },
  {
   "cell_type": "code",
   "execution_count": 35,
   "id": "a8ed2108",
   "metadata": {
    "scrolled": true
   },
   "outputs": [
    {
     "data": {
      "image/png": "[encoded data removed]",
      "text/plain": [
       "<Figure size 1080x720 with 9 Axes>"
      ]
     },
     "metadata": {
      "needs_background": "light"
     },
     "output_type": "display_data"
    }
   ],
   "source": [
    "plt.figure(figsize=(15, 10))\n",
    "# Set the style of seaborn\n",
    "sns.set(style=\"whitegrid\")\n",
    "# Loop through each feature and create a boxplot\n",
    "for i, feature in enumerate(selected_features):\n",
    "    plt.subplot(3, 4, i + 1)  \n",
    "    sns.boxplot(x=segmentation_data[feature])\n",
    "    plt.title(f'Boxplot of {feature}')\n",
    "plt.tight_layout()\n",
    "plt.show()"
   ]
  },
  {
   "cell_type": "markdown",
   "id": "a388410b",
   "metadata": {},
   "source": [
    "* observation : form the above boxplot outliers are present into the total_income and Price "
   ]
  },
  {
   "cell_type": "code",
   "execution_count": 36,
   "id": "77814283",
   "metadata": {
    "scrolled": true
   },
   "outputs": [
    {
     "data": {
      "text/plain": [
       "Index(['Age', 'Profession', 'Marrital Status', 'Education', 'No of Dependents',\n",
       "       'Personal loan', 'House Loan', 'Wife Working', 'Salary', 'Wife Salary',\n",
       "       'Total_Income', 'Make', 'Price'],\n",
       "      dtype='object')"
      ]
     },
     "execution_count": 36,
     "metadata": {},
     "output_type": "execute_result"
    }
   ],
   "source": [
    "df1.columns "
   ]
  },
  {
   "cell_type": "code",
   "execution_count": 37,
   "id": "ab3b47f4",
   "metadata": {},
   "outputs": [],
   "source": [
    "#Removing the outliers \n",
    "#Total_Income\n",
    "Q1 = segmentation_data.Total_Income.quantile(0.25)\n",
    "Q3 = segmentation_data.Total_Income.quantile(0.75)\n",
    "IQR = Q3 - Q1\n",
    "segmentation_data = segmentation_data[(segmentation_data.Total_Income >= Q1 - 1.5*IQR) & (segmentation_data.Total_Income <= Q3 + 1.5*IQR)]\n",
    "\n",
    "#Price\n",
    "Q1 = segmentation_data.Price.quantile(0.25)\n",
    "Q3 = segmentation_data.Price.quantile(0.75)\n",
    "IQR = Q3 - Q1\n",
    "segmentation_data = segmentation_data[(segmentation_data.Price >= Q1 - 1.5*IQR) & (segmentation_data.Price <= Q3 + 1.5*IQR)]"
   ]
  },
  {
   "cell_type": "code",
   "execution_count": 38,
   "id": "c2035300",
   "metadata": {},
   "outputs": [
    {
     "data": {
      "image/png": "[encoded data removed]",
      "text/plain": [
       "<Figure size 720x360 with 2 Axes>"
      ]
     },
     "metadata": {},
     "output_type": "display_data"
    }
   ],
   "source": [
    "sns.set(style=\"whitegrid\")\n",
    "plt.figure(figsize=(10, 5))\n",
    "selected_features = ['Total_Income', 'Price']\n",
    "\n",
    "# Loop through each feature and create a boxplot\n",
    "for i, feature in enumerate(selected_features):\n",
    "    plt.subplot(3, 4, i + 1)  # Adjust the subplot grid as needed\n",
    "    sns.boxplot(x=segmentation_data[feature])\n",
    "    plt.title(f'Boxplot of {feature}')\n",
    "plt.tight_layout()\n",
    "plt.show()"
   ]
  },
  {
   "cell_type": "code",
   "execution_count": 39,
   "id": "77f1cdef",
   "metadata": {},
   "outputs": [],
   "source": [
    "from sklearn.preprocessing import StandardScaler"
   ]
  },
  {
   "cell_type": "code",
   "execution_count": 40,
   "id": "c2f25ba1",
   "metadata": {},
   "outputs": [
    {
     "data": {
      "text/plain": [
       "array([[-1.47960779,  0.75912528,  2.28035085,  0.88795357,  1.41421356,\n",
       "        -0.77681933, -0.99100817, -1.54665796, -0.96902029],\n",
       "       [-0.13549522,  0.75912528, -0.43852901,  0.88795357,  1.41421356,\n",
       "         1.28730061,  0.92907016, -0.12602398, -0.39519739],\n",
       "       [ 1.54464549, -1.31730563, -0.43852901, -1.12618501,  1.41421356,\n",
       "         1.28730061, -0.99100817, -0.36279631,  0.17862552],\n",
       "       [ 0.87258921, -1.31730563, -0.43852901,  0.88795357, -0.70710678,\n",
       "        -0.77681933,  0.92907016,  0.11074835,  0.17862552],\n",
       "       [-0.8075515 ,  0.75912528, -0.43852901,  0.88795357,  1.41421356,\n",
       "        -0.77681933,  0.92907016,  0.58429301,  1.32627132],\n",
       "       [-1.31159372,  0.75912528, -0.43852901, -1.12618501,  1.41421356,\n",
       "         1.28730061, -0.99100817, -1.4282718 , -1.25593174],\n",
       "       [-0.8075515 ,  0.75912528, -0.43852901, -1.12618501, -0.70710678,\n",
       "        -0.77681933,  0.92907016, -0.36279631,  0.17862552],\n",
       "       [-0.47152336, -1.31730563, -0.43852901,  0.88795357, -0.70710678,\n",
       "        -0.77681933, -0.99100817, -0.83634097, -1.25593174],\n",
       "       [-0.30350929, -1.31730563, -0.43852901,  0.88795357, -0.70710678,\n",
       "        -0.77681933, -0.99100817, -0.12602398, -0.10828593],\n",
       "       [-0.30350929,  0.75912528, -0.43852901, -1.12618501,  1.41421356,\n",
       "         1.28730061,  0.92907016, -0.24441015, -0.96902029],\n",
       "       [-0.13549522,  0.75912528, -0.43852901,  0.88795357, -0.70710678,\n",
       "        -0.77681933,  0.92907016, -0.12602398,  1.32627132],\n",
       "       [-0.13549522,  0.75912528, -0.43852901, -1.12618501,  1.41421356,\n",
       "         1.28730061,  2.84914848, -0.83634097, -1.25593174],\n",
       "       [-1.14357965,  0.75912528, -0.43852901,  0.88795357, -0.70710678,\n",
       "        -0.77681933,  0.92907016, -0.48118248, -2.9487093 ],\n",
       "       [-0.97556557, -1.31730563,  2.28035085,  0.88795357,  1.41421356,\n",
       "        -0.77681933, -0.99100817, -0.83634097, -0.96902029],\n",
       "       [-0.8075515 , -1.31730563, -0.43852901, -1.12618501,  1.41421356,\n",
       "         1.28730061,  0.92907016, -0.95472714, -1.25593174],\n",
       "       [-1.64762186,  0.75912528,  2.28035085,  0.88795357, -0.70710678,\n",
       "        -0.77681933, -0.99100817, -1.54665796, -0.96902029],\n",
       "       [-1.47960779,  0.75912528,  2.28035085, -1.12618501,  1.41421356,\n",
       "        -0.77681933,  0.92907016, -1.54665796, -1.25593174],\n",
       "       [-1.14357965,  0.75912528,  2.28035085,  0.88795357, -0.70710678,\n",
       "        -0.77681933, -0.99100817, -1.4282718 ,  0.17862552],\n",
       "       [-0.97556557,  0.75912528, -0.43852901, -1.12618501, -0.70710678,\n",
       "        -0.77681933,  0.92907016, -0.95472714, -1.25593174],\n",
       "       [ 0.20053292,  0.75912528, -0.43852901,  0.88795357, -0.70710678,\n",
       "         1.28730061,  0.92907016,  0.46590684,  0.17862552],\n",
       "       [-0.13549522, -1.31730563, -0.43852901, -1.12618501, -0.70710678,\n",
       "         1.28730061,  0.92907016, -0.24441015, -0.96902029],\n",
       "       [ 0.03251885, -1.31730563, -0.43852901, -1.12618501, -0.70710678,\n",
       "        -0.77681933,  0.92907016,  0.34752068,  1.32627132],\n",
       "       [-0.13549522, -1.31730563, -0.43852901,  0.88795357, -0.70710678,\n",
       "        -0.77681933,  0.92907016, -0.83634097, -1.25593174],\n",
       "       [-0.13549522,  0.75912528, -0.43852901, -1.12618501,  1.41421356,\n",
       "        -0.77681933,  0.92907016, -0.12602398, -0.10828593],\n",
       "       [-0.13549522,  0.75912528, -0.43852901, -1.12618501, -0.70710678,\n",
       "        -0.77681933,  0.92907016,  0.9394515 ,  1.32627132],\n",
       "       [-0.13549522,  0.75912528, -0.43852901,  0.88795357,  1.41421356,\n",
       "         1.28730061, -0.99100817, -0.95472714, -1.25593174],\n",
       "       [ 0.03251885, -1.31730563, -0.43852901, -1.12618501, -0.70710678,\n",
       "        -0.77681933, -0.99100817, -0.59956864, -0.96902029],\n",
       "       [ 0.03251885,  0.75912528, -0.43852901,  0.88795357,  1.41421356,\n",
       "         1.28730061,  0.92907016,  0.58429301,  0.17862552],\n",
       "       [ 0.03251885,  0.75912528, -0.43852901,  0.88795357, -0.70710678,\n",
       "        -0.77681933,  0.92907016,  0.70267917,  1.32627132],\n",
       "       [ 0.87258921, -1.31730563, -0.43852901, -1.12618501, -0.70710678,\n",
       "        -0.77681933, -0.99100817, -1.19149947, -1.25593174],\n",
       "       [ 0.87258921,  0.75912528, -0.43852901, -1.12618501, -0.70710678,\n",
       "        -0.77681933,  0.92907016, -0.00763782,  0.46553697],\n",
       "       [ 0.87258921,  0.75912528, -0.43852901,  0.88795357, -0.70710678,\n",
       "         1.28730061,  0.92907016,  1.05783767,  1.03935987],\n",
       "       [ 1.20861735, -1.31730563, -0.43852901, -1.12618501, -0.70710678,\n",
       "        -0.77681933,  0.92907016,  0.11074835,  1.03935987],\n",
       "       [ 1.04060328,  0.75912528, -0.43852901, -1.12618501,  1.41421356,\n",
       "         1.28730061, -0.99100817, -0.00763782, -0.10828593],\n",
       "       [ 1.04060328,  0.75912528, -0.43852901,  0.88795357, -0.70710678,\n",
       "        -0.77681933,  0.92907016,  1.88654083,  1.32627132],\n",
       "       [-1.14357965, -1.31730563, -0.43852901,  0.88795357, -0.70710678,\n",
       "        -0.77681933,  0.92907016, -0.59956864,  0.17862552],\n",
       "       [-0.97556557,  0.75912528, -0.43852901,  0.88795357, -0.70710678,\n",
       "        -0.77681933,  0.92907016, -0.00763782,  1.03935987],\n",
       "       [-0.97556557, -1.31730563,  2.28035085,  0.88795357, -0.70710678,\n",
       "        -0.77681933, -0.99100817, -0.83634097,  1.32627132],\n",
       "       [-0.8075515 ,  0.75912528, -0.43852901, -1.12618501, -0.70710678,\n",
       "        -0.77681933,  0.92907016,  0.11074835, -0.10828593],\n",
       "       [-0.8075515 , -1.31730563, -0.43852901,  0.88795357,  1.41421356,\n",
       "         1.28730061,  0.92907016, -0.48118248, -0.96902029],\n",
       "       [-0.63953743, -1.31730563, -0.43852901,  0.88795357, -0.70710678,\n",
       "        -0.77681933, -0.99100817, -0.83634097, -0.10828593],\n",
       "       [-0.63953743,  0.75912528, -0.43852901, -1.12618501, -0.70710678,\n",
       "        -0.77681933,  0.92907016,  0.34752068,  1.32627132],\n",
       "       [-0.30350929,  0.75912528, -0.43852901,  0.88795357, -0.70710678,\n",
       "        -0.77681933,  0.92907016,  0.22913451,  0.46553697],\n",
       "       [-0.30350929,  0.75912528, -0.43852901,  0.88795357,  1.41421356,\n",
       "         1.28730061, -0.99100817, -0.59956864, -0.96902029],\n",
       "       [-0.30350929,  0.75912528, -0.43852901, -1.12618501, -0.70710678,\n",
       "         1.28730061,  0.92907016,  1.76815466,  1.03935987],\n",
       "       [ 0.03251885, -1.31730563, -0.43852901, -1.12618501, -0.70710678,\n",
       "        -0.77681933, -0.99100817, -2.25697495, -0.10828593],\n",
       "       [ 0.03251885, -1.31730563, -0.43852901, -1.12618501, -0.70710678,\n",
       "         1.28730061,  0.92907016,  0.58429301,  0.46553697],\n",
       "       [ 0.03251885,  0.75912528, -0.43852901,  0.88795357, -0.70710678,\n",
       "         1.28730061,  0.92907016, -0.59956864, -0.96902029],\n",
       "       [ 0.03251885,  0.75912528, -0.43852901, -1.12618501,  1.41421356,\n",
       "        -0.77681933,  0.92907016,  1.17622383,  1.03935987],\n",
       "       [ 2.21670178, -1.31730563, -0.43852901,  0.88795357, -0.70710678,\n",
       "        -0.77681933, -0.99100817, -0.12602398,  0.46553697],\n",
       "       [ 2.21670178,  0.75912528, -0.43852901,  0.88795357, -0.70710678,\n",
       "        -0.77681933,  0.92907016,  2.59685782,  1.32627132],\n",
       "       [ 1.37663142,  0.75912528, -0.43852901,  0.88795357, -0.70710678,\n",
       "        -0.77681933, -0.99100817,  0.70267917,  1.32627132],\n",
       "       [ 1.37663142, -1.31730563, -0.43852901,  0.88795357, -0.70710678,\n",
       "        -0.77681933,  0.92907016,  2.00492699,  1.03935987],\n",
       "       [ 0.87258921,  0.75912528, -0.43852901,  0.88795357,  1.41421356,\n",
       "         1.28730061, -0.99100817,  1.17622383,  1.03935987],\n",
       "       [ 0.87258921,  0.75912528, -0.43852901, -1.12618501, -0.70710678,\n",
       "        -0.77681933, -0.99100817,  0.58429301, -0.10828593],\n",
       "       [-1.47960779,  0.75912528,  2.28035085,  0.88795357, -0.70710678,\n",
       "        -0.77681933, -0.99100817, -1.19149947, -1.25593174],\n",
       "       [-1.47960779, -1.31730563,  2.28035085, -1.12618501, -0.70710678,\n",
       "        -0.77681933, -0.99100817, -1.0731133 , -0.10828593],\n",
       "       [-1.31159372,  0.75912528,  2.28035085, -1.12618501,  1.41421356,\n",
       "        -0.77681933, -0.99100817, -1.4282718 , -1.25593174],\n",
       "       [-1.31159372,  0.75912528,  2.28035085,  0.88795357, -0.70710678,\n",
       "        -0.77681933, -0.99100817, -0.83634097,  0.17862552],\n",
       "       [-0.97556557,  0.75912528,  2.28035085,  0.88795357, -0.70710678,\n",
       "        -0.77681933, -0.99100817, -0.71795481,  1.03935987],\n",
       "       [-0.8075515 , -1.31730563,  2.28035085, -1.12618501, -0.70710678,\n",
       "        -0.77681933, -0.99100817, -0.12602398,  1.03935987],\n",
       "       [-0.8075515 ,  0.75912528, -0.43852901,  0.88795357,  1.41421356,\n",
       "         1.28730061, -0.99100817, -0.36279631, -1.25593174],\n",
       "       [-0.8075515 ,  0.75912528, -0.43852901, -1.12618501, -0.70710678,\n",
       "         1.28730061,  0.92907016, -0.00763782, -0.10828593],\n",
       "       [ 0.53656107, -1.31730563, -0.43852901,  0.88795357, -0.70710678,\n",
       "        -0.77681933, -0.99100817, -0.59956864, -1.25593174],\n",
       "       [ 0.53656107, -1.31730563, -0.43852901, -1.12618501,  1.41421356,\n",
       "         1.28730061,  0.92907016,  1.76815466,  1.03935987],\n",
       "       [ 0.53656107,  0.75912528, -0.43852901,  0.88795357, -0.70710678,\n",
       "        -0.77681933, -0.99100817, -0.24441015,  0.17862552],\n",
       "       [ 0.53656107,  0.75912528, -0.43852901,  0.88795357,  1.41421356,\n",
       "         1.28730061,  0.92907016,  2.24169932,  1.03935987],\n",
       "       [ 0.20053292, -1.31730563, -0.43852901, -1.12618501, -0.70710678,\n",
       "        -0.77681933, -0.99100817, -0.48118248,  0.17862552],\n",
       "       [ 0.20053292, -1.31730563, -0.43852901,  0.88795357, -0.70710678,\n",
       "        -0.77681933,  0.92907016,  0.70267917,  1.03935987],\n",
       "       [ 0.20053292,  0.75912528, -0.43852901,  0.88795357, -0.70710678,\n",
       "         1.28730061,  0.92907016,  1.29461   ,  1.32627132],\n",
       "       [ 0.20053292,  0.75912528, -0.43852901, -1.12618501, -0.70710678,\n",
       "        -0.77681933, -0.99100817, -0.95472714, -1.25593174],\n",
       "       [-0.13549522,  0.75912528, -0.43852901,  0.88795357, -0.70710678,\n",
       "        -0.77681933,  0.92907016,  0.46590684,  1.32627132],\n",
       "       [ 0.03251885, -1.31730563, -0.43852901, -1.12618501, -0.70710678,\n",
       "        -0.77681933,  0.92907016, -0.12602398,  0.17862552],\n",
       "       [ 0.03251885,  0.75912528, -0.43852901,  0.88795357, -0.70710678,\n",
       "        -0.77681933,  0.92907016,  1.76815466,  1.03935987],\n",
       "       [ 0.03251885, -1.31730563, -0.43852901,  0.88795357,  1.41421356,\n",
       "         1.28730061, -0.99100817, -0.24441015, -0.96902029],\n",
       "       [ 0.03251885, -1.31730563, -0.43852901, -1.12618501, -0.70710678,\n",
       "         1.28730061,  0.92907016,  0.9394515 ,  1.32627132],\n",
       "       [ 1.37663142,  0.75912528, -0.43852901,  0.88795357, -0.70710678,\n",
       "        -0.77681933, -0.99100817,  1.17622383,  1.03935987],\n",
       "       [ 1.71265956,  0.75912528, -0.43852901, -1.12618501,  1.41421356,\n",
       "         1.28730061, -0.99100817, -0.00763782, -0.96902029],\n",
       "       [ 1.20861735,  0.75912528, -0.43852901,  0.88795357,  1.41421356,\n",
       "         1.28730061, -0.99100817,  0.34752068, -0.10828593],\n",
       "       [ 1.04060328,  0.75912528, -0.43852901,  0.88795357, -0.70710678,\n",
       "         1.28730061, -0.99100817,  0.9394515 ,  0.46553697],\n",
       "       [ 1.04060328,  0.75912528, -0.43852901, -1.12618501,  1.41421356,\n",
       "         1.28730061, -0.99100817,  0.70267917, -0.96902029],\n",
       "       [ 1.04060328, -1.31730563, -0.43852901,  0.88795357,  1.41421356,\n",
       "         1.28730061, -0.99100817, -0.36279631, -1.25593174],\n",
       "       [-1.14357965, -1.31730563,  2.28035085, -1.12618501,  1.41421356,\n",
       "        -0.77681933, -0.99100817, -1.19149947, -1.25593174],\n",
       "       [-0.47152336,  0.75912528, -0.43852901,  0.88795357, -0.70710678,\n",
       "        -0.77681933,  0.92907016,  0.11074835,  0.17862552],\n",
       "       [-0.30350929,  0.75912528, -0.43852901, -1.12618501, -0.70710678,\n",
       "         1.28730061,  0.92907016,  2.36008549,  1.03935987],\n",
       "       [-0.30350929, -1.31730563, -0.43852901,  0.88795357,  1.41421356,\n",
       "         1.28730061, -0.99100817, -0.24441015, -1.25593174],\n",
       "       [-0.13549522,  0.75912528, -0.43852901, -1.12618501, -0.70710678,\n",
       "        -0.77681933, -0.99100817, -0.83634097, -0.96902029],\n",
       "       [ 0.20053292,  0.75912528, -0.43852901, -1.12618501, -0.70710678,\n",
       "         1.28730061, -0.99100817,  0.82106534,  0.17862552],\n",
       "       [-1.47960779,  0.75912528,  2.28035085,  0.88795357, -0.70710678,\n",
       "        -0.77681933, -0.99100817, -1.4282718 , -1.25593174],\n",
       "       [-1.47960779, -1.31730563,  2.28035085, -1.12618501, -0.70710678,\n",
       "        -0.77681933, -0.99100817,  0.34752068,  1.32627132],\n",
       "       [ 2.55272992, -1.31730563, -0.43852901, -1.12618501,  1.41421356,\n",
       "         1.28730061, -0.99100817,  0.11074835, -0.10828593],\n",
       "       [ 2.55272992,  0.75912528, -0.43852901,  0.88795357, -0.70710678,\n",
       "        -0.77681933,  0.92907016,  2.24169932,  1.03935987],\n",
       "       [ 2.55272992,  0.75912528, -0.43852901,  0.88795357,  1.41421356,\n",
       "         1.28730061, -0.99100817,  0.11074835, -0.10828593]])"
      ]
     },
     "execution_count": 40,
     "metadata": {},
     "output_type": "execute_result"
    }
   ],
   "source": [
    "#scaling\n",
    "scaler = StandardScaler()\n",
    "df_scaled = scaler.fit_transform(segmentation_data)\n",
    "df_scaled"
   ]
  },
  {
   "cell_type": "code",
   "execution_count": 41,
   "id": "a1e5a4ec",
   "metadata": {},
   "outputs": [
    {
     "data": {
      "text/plain": [
       "Index(['Age', 'Profession', 'Marrital Status', 'Education', 'Personal loan',\n",
       "       'House Loan', 'Wife Working', 'Total_Income', 'Price'],\n",
       "      dtype='object')"
      ]
     },
     "execution_count": 41,
     "metadata": {},
     "output_type": "execute_result"
    }
   ],
   "source": [
    "segmentation_data.columns "
   ]
  },
  {
   "cell_type": "code",
   "execution_count": 42,
   "id": "51a2456c",
   "metadata": {
    "scrolled": true
   },
   "outputs": [
    {
     "data": {
      "text/html": [
       "<div>\n",
       "<style scoped>\n",
       "    .dataframe tbody tr th:only-of-type {\n",
       "        vertical-align: middle;\n",
       "    }\n",
       "\n",
       "    .dataframe tbody tr th {\n",
       "        vertical-align: top;\n",
       "    }\n",
       "\n",
       "    .dataframe thead th {\n",
       "        text-align: right;\n",
       "    }\n",
       "</style>\n",
       "<table border=\"1\" class=\"dataframe\">\n",
       "  <thead>\n",
       "    <tr style=\"text-align: right;\">\n",
       "      <th></th>\n",
       "      <th>Age</th>\n",
       "      <th>Profession</th>\n",
       "      <th>Marrital Status</th>\n",
       "      <th>Education</th>\n",
       "      <th>Personal loan</th>\n",
       "      <th>House Loan</th>\n",
       "      <th>Wife Working</th>\n",
       "      <th>Total_Income</th>\n",
       "      <th>Price</th>\n",
       "    </tr>\n",
       "  </thead>\n",
       "  <tbody>\n",
       "    <tr>\n",
       "      <th>0</th>\n",
       "      <td>-1.479608</td>\n",
       "      <td>0.759125</td>\n",
       "      <td>2.280351</td>\n",
       "      <td>0.887954</td>\n",
       "      <td>1.414214</td>\n",
       "      <td>-0.776819</td>\n",
       "      <td>-0.991008</td>\n",
       "      <td>-1.546658</td>\n",
       "      <td>-0.969020</td>\n",
       "    </tr>\n",
       "    <tr>\n",
       "      <th>1</th>\n",
       "      <td>-0.135495</td>\n",
       "      <td>0.759125</td>\n",
       "      <td>-0.438529</td>\n",
       "      <td>0.887954</td>\n",
       "      <td>1.414214</td>\n",
       "      <td>1.287301</td>\n",
       "      <td>0.929070</td>\n",
       "      <td>-0.126024</td>\n",
       "      <td>-0.395197</td>\n",
       "    </tr>\n",
       "    <tr>\n",
       "      <th>2</th>\n",
       "      <td>1.544645</td>\n",
       "      <td>-1.317306</td>\n",
       "      <td>-0.438529</td>\n",
       "      <td>-1.126185</td>\n",
       "      <td>1.414214</td>\n",
       "      <td>1.287301</td>\n",
       "      <td>-0.991008</td>\n",
       "      <td>-0.362796</td>\n",
       "      <td>0.178626</td>\n",
       "    </tr>\n",
       "    <tr>\n",
       "      <th>3</th>\n",
       "      <td>0.872589</td>\n",
       "      <td>-1.317306</td>\n",
       "      <td>-0.438529</td>\n",
       "      <td>0.887954</td>\n",
       "      <td>-0.707107</td>\n",
       "      <td>-0.776819</td>\n",
       "      <td>0.929070</td>\n",
       "      <td>0.110748</td>\n",
       "      <td>0.178626</td>\n",
       "    </tr>\n",
       "    <tr>\n",
       "      <th>4</th>\n",
       "      <td>-0.807552</td>\n",
       "      <td>0.759125</td>\n",
       "      <td>-0.438529</td>\n",
       "      <td>0.887954</td>\n",
       "      <td>1.414214</td>\n",
       "      <td>-0.776819</td>\n",
       "      <td>0.929070</td>\n",
       "      <td>0.584293</td>\n",
       "      <td>1.326271</td>\n",
       "    </tr>\n",
       "  </tbody>\n",
       "</table>\n",
       "</div>"
      ],
      "text/plain": [
       "        Age  Profession  Marrital Status  Education  Personal loan  \\\n",
       "0 -1.479608    0.759125         2.280351   0.887954       1.414214   \n",
       "1 -0.135495    0.759125        -0.438529   0.887954       1.414214   \n",
       "2  1.544645   -1.317306        -0.438529  -1.126185       1.414214   \n",
       "3  0.872589   -1.317306        -0.438529   0.887954      -0.707107   \n",
       "4 -0.807552    0.759125        -0.438529   0.887954       1.414214   \n",
       "\n",
       "   House Loan  Wife Working  Total_Income     Price  \n",
       "0   -0.776819     -0.991008     -1.546658 -0.969020  \n",
       "1    1.287301      0.929070     -0.126024 -0.395197  \n",
       "2    1.287301     -0.991008     -0.362796  0.178626  \n",
       "3   -0.776819      0.929070      0.110748  0.178626  \n",
       "4   -0.776819      0.929070      0.584293  1.326271  "
      ]
     },
     "execution_count": 42,
     "metadata": {},
     "output_type": "execute_result"
    }
   ],
   "source": [
    "df2 = pd.DataFrame(df_scaled, columns = ['Age', 'Profession', 'Marrital Status', 'Education', 'Personal loan', 'House Loan','Wife Working', 'Total_Income', 'Price'] )\n",
    "df2.head()"
   ]
  },
  {
   "cell_type": "markdown",
   "id": "31a60125",
   "metadata": {},
   "source": [
    "### Market Segmentation using K-means Clustering:"
   ]
  },
  {
   "cell_type": "code",
   "execution_count": 43,
   "id": "c0e7ca22",
   "metadata": {},
   "outputs": [],
   "source": [
    "from sklearn.cluster import KMeans"
   ]
  },
  {
   "cell_type": "code",
   "execution_count": 44,
   "id": "ead77db8",
   "metadata": {
    "scrolled": true
   },
   "outputs": [
    {
     "data": {
      "image/png": "[encoded data removed]",
      "text/plain": [
       "<Figure size 432x288 with 1 Axes>"
      ]
     },
     "metadata": {},
     "output_type": "display_data"
    }
   ],
   "source": [
    "# Elbow curve method to find the ideal number of clusters.\n",
    "#ssd - Wcss(Within cluster sum of square)\n",
    "#ssd(Sum of Squared distance)\n",
    "clusters = list(range(2, 8))\n",
    "ssd = []\n",
    "\n",
    "for num_clusters in clusters:\n",
    "    model_clus = KMeans(n_clusters=num_clusters, max_iter=150, random_state=50)\n",
    "    model_clus.fit(df2)\n",
    "    ssd.append(model_clus.inertia_)  # Sum of Squared distance   # SIGNINFICANT CHANGE IN THE PLOT\n",
    "\n",
    "# Plotting the Elbow curve\n",
    "plt.plot(clusters, ssd)\n",
    "plt.xlabel('Number of Clusters')\n",
    "plt.ylabel('Within-Cluster Sum of Squares (SSD)')\n",
    "plt.title('Elbow Curve for Optimal k')\n",
    "plt.show()"
   ]
  },
  {
   "cell_type": "code",
   "execution_count": 45,
   "id": "7b9a4b94",
   "metadata": {},
   "outputs": [],
   "source": [
    "# FROM THE ABOVE GRAPH WE ARE INFERREING THAT OPTIMAL NUMBER OF K = 4 CLUSTERS"
   ]
  },
  {
   "cell_type": "code",
   "execution_count": 46,
   "id": "07e22698",
   "metadata": {},
   "outputs": [
    {
     "data": {
      "text/html": [
       "<style>#sk-container-id-1 {color: black;}#sk-container-id-1 pre{padding: 0;}#sk-container-id-1 div.sk-toggleable {background-color: white;}#sk-container-id-1 label.sk-toggleable__label {cursor: pointer;display: block;width: 100%;margin-bottom: 0;padding: 0.3em;box-sizing: border-box;text-align: center;}#sk-container-id-1 label.sk-toggleable__label-arrow:before {content: \"▸\";float: left;margin-right: 0.25em;color: #696969;}#sk-container-id-1 label.sk-toggleable__label-arrow:hover:before {color: black;}#sk-container-id-1 div.sk-estimator:hover label.sk-toggleable__label-arrow:before {color: black;}#sk-container-id-1 div.sk-toggleable__content {max-height: 0;max-width: 0;overflow: hidden;text-align: left;background-color: #f0f8ff;}#sk-container-id-1 div.sk-toggleable__content pre {margin: 0.2em;color: black;border-radius: 0.25em;background-color: #f0f8ff;}#sk-container-id-1 input.sk-toggleable__control:checked~div.sk-toggleable__content {max-height: 200px;max-width: 100%;overflow: auto;}#sk-container-id-1 input.sk-toggleable__control:checked~label.sk-toggleable__label-arrow:before {content: \"▾\";}#sk-container-id-1 div.sk-estimator input.sk-toggleable__control:checked~label.sk-toggleable__label {background-color: #d4ebff;}#sk-container-id-1 div.sk-label input.sk-toggleable__control:checked~label.sk-toggleable__label {background-color: #d4ebff;}#sk-container-id-1 input.sk-hidden--visually {border: 0;clip: rect(1px 1px 1px 1px);clip: rect(1px, 1px, 1px, 1px);height: 1px;margin: -1px;overflow: hidden;padding: 0;position: absolute;width: 1px;}#sk-container-id-1 div.sk-estimator {font-family: monospace;background-color: #f0f8ff;border: 1px dotted black;border-radius: 0.25em;box-sizing: border-box;margin-bottom: 0.5em;}#sk-container-id-1 div.sk-estimator:hover {background-color: #d4ebff;}#sk-container-id-1 div.sk-parallel-item::after {content: \"\";width: 100%;border-bottom: 1px solid gray;flex-grow: 1;}#sk-container-id-1 div.sk-label:hover label.sk-toggleable__label {background-color: #d4ebff;}#sk-container-id-1 div.sk-serial::before {content: \"\";position: absolute;border-left: 1px solid gray;box-sizing: border-box;top: 0;bottom: 0;left: 50%;z-index: 0;}#sk-container-id-1 div.sk-serial {display: flex;flex-direction: column;align-items: center;background-color: white;padding-right: 0.2em;padding-left: 0.2em;position: relative;}#sk-container-id-1 div.sk-item {position: relative;z-index: 1;}#sk-container-id-1 div.sk-parallel {display: flex;align-items: stretch;justify-content: center;background-color: white;position: relative;}#sk-container-id-1 div.sk-item::before, #sk-container-id-1 div.sk-parallel-item::before {content: \"\";position: absolute;border-left: 1px solid gray;box-sizing: border-box;top: 0;bottom: 0;left: 50%;z-index: -1;}#sk-container-id-1 div.sk-parallel-item {display: flex;flex-direction: column;z-index: 1;position: relative;background-color: white;}#sk-container-id-1 div.sk-parallel-item:first-child::after {align-self: flex-end;width: 50%;}#sk-container-id-1 div.sk-parallel-item:last-child::after {align-self: flex-start;width: 50%;}#sk-container-id-1 div.sk-parallel-item:only-child::after {width: 0;}#sk-container-id-1 div.sk-dashed-wrapped {border: 1px dashed gray;margin: 0 0.4em 0.5em 0.4em;box-sizing: border-box;padding-bottom: 0.4em;background-color: white;}#sk-container-id-1 div.sk-label label {font-family: monospace;font-weight: bold;display: inline-block;line-height: 1.2em;}#sk-container-id-1 div.sk-label-container {text-align: center;}#sk-container-id-1 div.sk-container {/* jupyter's `normalize.less` sets `[hidden] { display: none; }` but bootstrap.min.css set `[hidden] { display: none !important; }` so we also need the `!important` here to be able to override the default hidden behavior on the sphinx rendered scikit-learn.org. See: https://github.com/scikit-learn/scikit-learn/issues/21755 */display: inline-block !important;position: relative;}#sk-container-id-1 div.sk-text-repr-fallback {display: none;}</style><div id=\"sk-container-id-1\" class=\"sk-top-container\"><div class=\"sk-text-repr-fallback\"><pre>KMeans(max_iter=150, n_clusters=4, random_state=15)</pre><b>In a Jupyter environment, please rerun this cell to show the HTML representation or trust the notebook. <br />On GitHub, the HTML representation is unable to render, please try loading this page with nbviewer.org.</b></div><div class=\"sk-container\" hidden><div class=\"sk-item\"><div class=\"sk-estimator sk-toggleable\"><input class=\"sk-toggleable__control sk-hidden--visually\" id=\"sk-estimator-id-1\" type=\"checkbox\" checked><label for=\"sk-estimator-id-1\" class=\"sk-toggleable__label sk-toggleable__label-arrow\">KMeans</label><div class=\"sk-toggleable__content\"><pre>KMeans(max_iter=150, n_clusters=4, random_state=15)</pre></div></div></div></div></div>"
      ],
      "text/plain": [
       "KMeans(max_iter=150, n_clusters=4, random_state=15)"
      ]
     },
     "execution_count": 46,
     "metadata": {},
     "output_type": "execute_result"
    }
   ],
   "source": [
    "cluster = KMeans(n_clusters=4, max_iter=150, random_state= 15)\n",
    "cluster.fit(df2)   #MODEL BUILDING"
   ]
  },
  {
   "cell_type": "code",
   "execution_count": 47,
   "id": "f1bb0085",
   "metadata": {},
   "outputs": [],
   "source": [
    "# Getting cluster labels\n",
    "cluster_labels = cluster.labels_"
   ]
  },
  {
   "cell_type": "code",
   "execution_count": 48,
   "id": "6c0a5990",
   "metadata": {
    "scrolled": true
   },
   "outputs": [
    {
     "data": {
      "text/plain": [
       "array([0, 2, 2, 3, 1, 2, 1, 3, 3, 2, 1, 2, 3, 0, 2, 0, 0, 0, 3, 1, 3, 1,\n",
       "       3, 1, 1, 2, 3, 2, 1, 3, 1, 1, 1, 2, 1, 3, 1, 0, 1, 2, 3, 1, 1, 2,\n",
       "       1, 3, 1, 2, 1, 3, 1, 1, 1, 2, 3, 0, 0, 0, 0, 0, 0, 2, 1, 3, 1, 3,\n",
       "       1, 3, 1, 1, 3, 1, 3, 1, 2, 1, 1, 2, 2, 1, 2, 2, 0, 1, 1, 2, 3, 1,\n",
       "       0, 0, 2, 1, 2])"
      ]
     },
     "execution_count": 48,
     "metadata": {},
     "output_type": "execute_result"
    }
   ],
   "source": [
    "cluster_labels"
   ]
  },
  {
   "cell_type": "code",
   "execution_count": 49,
   "id": "6988d47b",
   "metadata": {},
   "outputs": [],
   "source": [
    "# Assign the cluster labels to your DataFrame\n",
    "df2['Cluster'] = cluster_labels"
   ]
  },
  {
   "cell_type": "code",
   "execution_count": 50,
   "id": "e7b7fa38",
   "metadata": {
    "scrolled": true
   },
   "outputs": [
    {
     "data": {
      "text/html": [
       "<div>\n",
       "<style scoped>\n",
       "    .dataframe tbody tr th:only-of-type {\n",
       "        vertical-align: middle;\n",
       "    }\n",
       "\n",
       "    .dataframe tbody tr th {\n",
       "        vertical-align: top;\n",
       "    }\n",
       "\n",
       "    .dataframe thead th {\n",
       "        text-align: right;\n",
       "    }\n",
       "</style>\n",
       "<table border=\"1\" class=\"dataframe\">\n",
       "  <thead>\n",
       "    <tr style=\"text-align: right;\">\n",
       "      <th></th>\n",
       "      <th>Age</th>\n",
       "      <th>Profession</th>\n",
       "      <th>Marrital Status</th>\n",
       "      <th>Education</th>\n",
       "      <th>Personal loan</th>\n",
       "      <th>House Loan</th>\n",
       "      <th>Wife Working</th>\n",
       "      <th>Total_Income</th>\n",
       "      <th>Price</th>\n",
       "      <th>Cluster</th>\n",
       "    </tr>\n",
       "  </thead>\n",
       "  <tbody>\n",
       "    <tr>\n",
       "      <th>0</th>\n",
       "      <td>-1.479608</td>\n",
       "      <td>0.759125</td>\n",
       "      <td>2.280351</td>\n",
       "      <td>0.887954</td>\n",
       "      <td>1.414214</td>\n",
       "      <td>-0.776819</td>\n",
       "      <td>-0.991008</td>\n",
       "      <td>-1.546658</td>\n",
       "      <td>-0.969020</td>\n",
       "      <td>0</td>\n",
       "    </tr>\n",
       "    <tr>\n",
       "      <th>1</th>\n",
       "      <td>-0.135495</td>\n",
       "      <td>0.759125</td>\n",
       "      <td>-0.438529</td>\n",
       "      <td>0.887954</td>\n",
       "      <td>1.414214</td>\n",
       "      <td>1.287301</td>\n",
       "      <td>0.929070</td>\n",
       "      <td>-0.126024</td>\n",
       "      <td>-0.395197</td>\n",
       "      <td>2</td>\n",
       "    </tr>\n",
       "    <tr>\n",
       "      <th>2</th>\n",
       "      <td>1.544645</td>\n",
       "      <td>-1.317306</td>\n",
       "      <td>-0.438529</td>\n",
       "      <td>-1.126185</td>\n",
       "      <td>1.414214</td>\n",
       "      <td>1.287301</td>\n",
       "      <td>-0.991008</td>\n",
       "      <td>-0.362796</td>\n",
       "      <td>0.178626</td>\n",
       "      <td>2</td>\n",
       "    </tr>\n",
       "    <tr>\n",
       "      <th>3</th>\n",
       "      <td>0.872589</td>\n",
       "      <td>-1.317306</td>\n",
       "      <td>-0.438529</td>\n",
       "      <td>0.887954</td>\n",
       "      <td>-0.707107</td>\n",
       "      <td>-0.776819</td>\n",
       "      <td>0.929070</td>\n",
       "      <td>0.110748</td>\n",
       "      <td>0.178626</td>\n",
       "      <td>3</td>\n",
       "    </tr>\n",
       "    <tr>\n",
       "      <th>4</th>\n",
       "      <td>-0.807552</td>\n",
       "      <td>0.759125</td>\n",
       "      <td>-0.438529</td>\n",
       "      <td>0.887954</td>\n",
       "      <td>1.414214</td>\n",
       "      <td>-0.776819</td>\n",
       "      <td>0.929070</td>\n",
       "      <td>0.584293</td>\n",
       "      <td>1.326271</td>\n",
       "      <td>1</td>\n",
       "    </tr>\n",
       "    <tr>\n",
       "      <th>...</th>\n",
       "      <td>...</td>\n",
       "      <td>...</td>\n",
       "      <td>...</td>\n",
       "      <td>...</td>\n",
       "      <td>...</td>\n",
       "      <td>...</td>\n",
       "      <td>...</td>\n",
       "      <td>...</td>\n",
       "      <td>...</td>\n",
       "      <td>...</td>\n",
       "    </tr>\n",
       "    <tr>\n",
       "      <th>88</th>\n",
       "      <td>-1.479608</td>\n",
       "      <td>0.759125</td>\n",
       "      <td>2.280351</td>\n",
       "      <td>0.887954</td>\n",
       "      <td>-0.707107</td>\n",
       "      <td>-0.776819</td>\n",
       "      <td>-0.991008</td>\n",
       "      <td>-1.428272</td>\n",
       "      <td>-1.255932</td>\n",
       "      <td>0</td>\n",
       "    </tr>\n",
       "    <tr>\n",
       "      <th>89</th>\n",
       "      <td>-1.479608</td>\n",
       "      <td>-1.317306</td>\n",
       "      <td>2.280351</td>\n",
       "      <td>-1.126185</td>\n",
       "      <td>-0.707107</td>\n",
       "      <td>-0.776819</td>\n",
       "      <td>-0.991008</td>\n",
       "      <td>0.347521</td>\n",
       "      <td>1.326271</td>\n",
       "      <td>0</td>\n",
       "    </tr>\n",
       "    <tr>\n",
       "      <th>90</th>\n",
       "      <td>2.552730</td>\n",
       "      <td>-1.317306</td>\n",
       "      <td>-0.438529</td>\n",
       "      <td>-1.126185</td>\n",
       "      <td>1.414214</td>\n",
       "      <td>1.287301</td>\n",
       "      <td>-0.991008</td>\n",
       "      <td>0.110748</td>\n",
       "      <td>-0.108286</td>\n",
       "      <td>2</td>\n",
       "    </tr>\n",
       "    <tr>\n",
       "      <th>91</th>\n",
       "      <td>2.552730</td>\n",
       "      <td>0.759125</td>\n",
       "      <td>-0.438529</td>\n",
       "      <td>0.887954</td>\n",
       "      <td>-0.707107</td>\n",
       "      <td>-0.776819</td>\n",
       "      <td>0.929070</td>\n",
       "      <td>2.241699</td>\n",
       "      <td>1.039360</td>\n",
       "      <td>1</td>\n",
       "    </tr>\n",
       "    <tr>\n",
       "      <th>92</th>\n",
       "      <td>2.552730</td>\n",
       "      <td>0.759125</td>\n",
       "      <td>-0.438529</td>\n",
       "      <td>0.887954</td>\n",
       "      <td>1.414214</td>\n",
       "      <td>1.287301</td>\n",
       "      <td>-0.991008</td>\n",
       "      <td>0.110748</td>\n",
       "      <td>-0.108286</td>\n",
       "      <td>2</td>\n",
       "    </tr>\n",
       "  </tbody>\n",
       "</table>\n",
       "<p>93 rows × 10 columns</p>\n",
       "</div>"
      ],
      "text/plain": [
       "         Age  Profession  Marrital Status  Education  Personal loan  \\\n",
       "0  -1.479608    0.759125         2.280351   0.887954       1.414214   \n",
       "1  -0.135495    0.759125        -0.438529   0.887954       1.414214   \n",
       "2   1.544645   -1.317306        -0.438529  -1.126185       1.414214   \n",
       "3   0.872589   -1.317306        -0.438529   0.887954      -0.707107   \n",
       "4  -0.807552    0.759125        -0.438529   0.887954       1.414214   \n",
       "..       ...         ...              ...        ...            ...   \n",
       "88 -1.479608    0.759125         2.280351   0.887954      -0.707107   \n",
       "89 -1.479608   -1.317306         2.280351  -1.126185      -0.707107   \n",
       "90  2.552730   -1.317306        -0.438529  -1.126185       1.414214   \n",
       "91  2.552730    0.759125        -0.438529   0.887954      -0.707107   \n",
       "92  2.552730    0.759125        -0.438529   0.887954       1.414214   \n",
       "\n",
       "    House Loan  Wife Working  Total_Income     Price  Cluster  \n",
       "0    -0.776819     -0.991008     -1.546658 -0.969020        0  \n",
       "1     1.287301      0.929070     -0.126024 -0.395197        2  \n",
       "2     1.287301     -0.991008     -0.362796  0.178626        2  \n",
       "3    -0.776819      0.929070      0.110748  0.178626        3  \n",
       "4    -0.776819      0.929070      0.584293  1.326271        1  \n",
       "..         ...           ...           ...       ...      ...  \n",
       "88   -0.776819     -0.991008     -1.428272 -1.255932        0  \n",
       "89   -0.776819     -0.991008      0.347521  1.326271        0  \n",
       "90    1.287301     -0.991008      0.110748 -0.108286        2  \n",
       "91   -0.776819      0.929070      2.241699  1.039360        1  \n",
       "92    1.287301     -0.991008      0.110748 -0.108286        2  \n",
       "\n",
       "[93 rows x 10 columns]"
      ]
     },
     "execution_count": 50,
     "metadata": {},
     "output_type": "execute_result"
    }
   ],
   "source": [
    "df2"
   ]
  },
  {
   "cell_type": "code",
   "execution_count": 51,
   "id": "2956c5d1",
   "metadata": {},
   "outputs": [
    {
     "name": "stdout",
     "output_type": "stream",
     "text": [
      "Segment Means:\n",
      "              Age  Profession  Marrital Status  Education  Personal loan  \\\n",
      "Cluster                                                                    \n",
      "0       -1.277991   -0.071447         2.280351   0.082298   7.401487e-17   \n",
      "1        0.256538    0.355375        -0.438529  -0.007219  -4.124790e-01   \n",
      "2        0.391458    0.098443        -0.438529   0.063988   1.317790e+00   \n",
      "3        0.066122   -0.694376        -0.438529  -0.119116  -7.071068e-01   \n",
      "\n",
      "         House Loan  Wife Working  Total_Income     Price  \n",
      "Cluster                                                    \n",
      "0         -0.776819     -0.863003     -1.025759 -0.280433  \n",
      "1         -0.088779      0.715728      0.883547  0.879965  \n",
      "2          1.287301     -0.292798     -0.217504 -0.682109  \n",
      "3         -0.673613     -0.318981     -0.581811 -0.623292  \n"
     ]
    }
   ],
   "source": [
    "# Calculating mean for each segment\n",
    "segment_means = df2.groupby('Cluster').mean()\n",
    "\n",
    "# Display the calculated segment means\n",
    "print(\"Segment Means:\")\n",
    "print(segment_means)\n"
   ]
  },
  {
   "cell_type": "code",
   "execution_count": 52,
   "id": "82603b23",
   "metadata": {},
   "outputs": [
    {
     "data": {
      "image/png": "[encoded data removed]",
      "text/plain": [
       "<Figure size 720x432 with 1 Axes>"
      ]
     },
     "metadata": {},
     "output_type": "display_data"
    }
   ],
   "source": [
    "# Market segment analysis \n",
    "plt.figure(figsize=(10, 6))\n",
    "for segment in segment_means.index:\n",
    "    plt.scatter(segment_means.columns, segment_means.loc[segment], label=f'Segment {segment}')\n",
    "\n",
    "plt.xlabel('Attributes')\n",
    "plt.ylabel('Mean Value')\n",
    "plt.title('Segment Means for Attributes')\n",
    "plt.xticks(rotation=45)\n",
    "plt.legend()\n",
    "plt.show()\n"
   ]
  },
  {
   "cell_type": "code",
   "execution_count": 54,
   "id": "d686a2f8",
   "metadata": {},
   "outputs": [
    {
     "data": {
      "image/png": "[encoded data removed]",
      "text/plain": [
       "<Figure size 720x432 with 1 Axes>"
      ]
     },
     "metadata": {},
     "output_type": "display_data"
    }
   ],
   "source": [
    "# Plotting a bar plot\n",
    "plt.figure(figsize=(10, 6))\n",
    "for segment in segment_means.index:\n",
    "    plt.bar(segment_means.columns, segment_means.loc[segment], label=f'Segment {segment}')\n",
    "\n",
    "plt.xlabel('Attributes')\n",
    "plt.ylabel('Mean Value')\n",
    "plt.title('Segment Means for Attributes')\n",
    "plt.legend()\n",
    "plt.show()"
   ]
  },
  {
   "cell_type": "code",
   "execution_count": 55,
   "id": "f95e0159",
   "metadata": {},
   "outputs": [],
   "source": [
    "from sklearn.metrics import silhouette_score"
   ]
  },
  {
   "cell_type": "code",
   "execution_count": 56,
   "id": "27c20215",
   "metadata": {
    "scrolled": true
   },
   "outputs": [
    {
     "name": "stdout",
     "output_type": "stream",
     "text": [
      "For n_clusters=2, the silhouette score is 0.28693968402221126\n",
      "For n_clusters=3, the silhouette score is 0.2589526531575151\n",
      "For n_clusters=4, the silhouette score is 0.2897897555744056\n",
      "For n_clusters=5, the silhouette score is 0.262276259263673\n",
      "For n_clusters=6, the silhouette score is 0.24156556062122822\n",
      "For n_clusters=7, the silhouette score is 0.24276304063053822\n",
      "For n_clusters=8, the silhouette score is 0.23238469258392655\n"
     ]
    }
   ],
   "source": [
    "# Silhouette score analysis to find the ideal number of clusters for K-means clustering\n",
    "\n",
    "range_n_clusters = [2, 3, 4, 5, 6, 7, 8]\n",
    "\n",
    "for num_clusters in range_n_clusters:\n",
    "    \n",
    "    # intialise kmeans\n",
    "    kmeans = KMeans(n_clusters=num_clusters, max_iter=50,random_state= 100)\n",
    "    kmeans.fit(df2)\n",
    "    \n",
    "    cluster_labels = kmeans.labels_\n",
    "    \n",
    "    # silhouette score\n",
    "    silhouette_avg = silhouette_score(df2, cluster_labels)\n",
    "    print(\"For n_clusters={0}, the silhouette score is {1}\".format(num_clusters, silhouette_avg))"
   ]
  },
  {
   "cell_type": "markdown",
   "id": "678b42aa",
   "metadata": {},
   "source": [
    "Here we have our best k For n_clusters=4, the silhouette score is 0.2897897555744056"
   ]
  },
  {
   "cell_type": "markdown",
   "id": "e6316dd9",
   "metadata": {},
   "source": [
    "The silhouette score is a measure of how similar an object is to its own cluster (cohesion) compared to other clusters (separation). The silhouette score ranges from -1 to 1, with a high value indicating that the object is well matched to its own cluster and poorly matched to neighboring clusters. The ideal silhouette score is close to 1, suggesting well-defined clusters.\n",
    "\n",
    "In general, the silhouette score can be interpreted as follows:\n",
    "\n",
    "- **Near +1**: Indicates that the sample is far away from the neighboring clusters.\n",
    "- **0**: Indicates that the sample is on or very close to the decision boundary between two neighboring clusters.\n",
    "- **Near -1**: Indicates that those samples might have been assigned to the wrong cluster.\n",
    "\n",
    "Therefore, a higher silhouette score is generally considered better, and you typically aim for a score as close to 1 as possible. However, the interpretation may vary based on the specific context and characteristics of the data."
   ]
  },
  {
   "cell_type": "code",
   "execution_count": 57,
   "id": "6bc66c8f",
   "metadata": {},
   "outputs": [
    {
     "data": {
      "text/plain": [
       "Index(['Age', 'Profession', 'Marrital Status', 'Education', 'Personal loan',\n",
       "       'House Loan', 'Wife Working', 'Total_Income', 'Price', 'Cluster'],\n",
       "      dtype='object')"
      ]
     },
     "execution_count": 57,
     "metadata": {},
     "output_type": "execute_result"
    }
   ],
   "source": [
    "df2.columns"
   ]
  },
  {
   "cell_type": "code",
   "execution_count": 58,
   "id": "b3d044d4",
   "metadata": {},
   "outputs": [
    {
     "data": {
      "image/png": "[encoded data removed]",
      "text/plain": [
       "<Figure size 1440x1080 with 3 Axes>"
      ]
     },
     "metadata": {},
     "output_type": "display_data"
    }
   ],
   "source": [
    "plt.figure(figsize = (20,15))\n",
    "plt.subplot(3,1,1)\n",
    "sns.scatterplot(x = 'Age', y = 'Total_Income',hue='Cluster',data = df2,palette=\"Set1\")\n",
    "plt.subplot(3,1,2)\n",
    "sns.scatterplot(x = 'Age', y = 'Marrital Status',hue='Cluster', data = df2,palette=\"Set1\")\n",
    "plt.subplot(3,1,3)\n",
    "sns.scatterplot(x = 'Age', y = 'Price',hue='Cluster', data=df2,palette=\"Set1\")\n",
    "plt.show()"
   ]
  },
  {
   "cell_type": "markdown",
   "id": "2215f569",
   "metadata": {},
   "source": [
    "* the above visualization shows the effect of different factor with the Age factor with the help of different colors "
   ]
  },
  {
   "cell_type": "code",
   "execution_count": null,
   "id": "0a782437",
   "metadata": {},
   "outputs": [],
   "source": []
  }
 ],
 "metadata": {
  "kernelspec": {
   "display_name": "Python 3 (ipykernel)",
   "language": "python",
   "name": "python3"
  },
  "language_info": {
   "codemirror_mode": {
    "name": "ipython",
    "version": 3
   },
   "file_extension": ".py",
   "mimetype": "text/x-python",
   "name": "python",
   "nbconvert_exporter": "python",
   "pygments_lexer": "ipython3",
   "version": "3.9.12"
  }
 },
 "nbformat": 4,
 "nbformat_minor": 5
}
